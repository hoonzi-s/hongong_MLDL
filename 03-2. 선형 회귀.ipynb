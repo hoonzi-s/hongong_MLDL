{
  "cells": [
    {
      "cell_type": "markdown",
      "metadata": {
        "id": "view-in-github",
        "colab_type": "text"
      },
      "source": [
        "<a href=\"https://colab.research.google.com/github/hoonzi-s/hongong_mldl/blob/main/03-2.%20%EC%84%A0%ED%98%95%20%ED%9A%8C%EA%B7%80.ipynb\" target=\"_parent\"><img src=\"https://colab.research.google.com/assets/colab-badge.svg\" alt=\"Open In Colab\"/></a>"
      ]
    },
    {
      "cell_type": "code",
      "execution_count": 4,
      "id": "01f25715",
      "metadata": {
        "id": "01f25715"
      },
      "outputs": [],
      "source": [
        "import numpy as np\n",
        "perch_length = np.array([8.4, 13.7, 15.0, 16.2, 17.4, 18.0, 18.7, 19.0, 19.6, 20.0, 21.0,\n",
        "       21.0, 21.0, 21.3, 22.0, 22.0, 22.0, 22.0, 22.0, 22.5, 22.5, 22.7,\n",
        "       23.0, 23.5, 24.0, 24.0, 24.6, 25.0, 25.6, 26.5, 27.3, 27.5, 27.5,\n",
        "       27.5, 28.0, 28.7, 30.0, 32.8, 34.5, 35.0, 36.5, 36.0, 37.0, 37.0,\n",
        "       39.0, 39.0, 39.0, 40.0, 40.0, 40.0, 40.0, 42.0, 43.0, 43.0, 43.5,\n",
        "       44.0])\n",
        "perch_weight = np.array([5.9, 32.0, 40.0, 51.5, 70.0, 100.0, 78.0, 80.0, 85.0, 85.0, 110.0,\n",
        "       115.0, 125.0, 130.0, 120.0, 120.0, 130.0, 135.0, 110.0, 130.0,\n",
        "       150.0, 145.0, 150.0, 170.0, 225.0, 145.0, 188.0, 180.0, 197.0,\n",
        "       218.0, 300.0, 260.0, 265.0, 250.0, 250.0, 300.0, 320.0, 514.0,\n",
        "       556.0, 840.0, 685.0, 700.0, 700.0, 690.0, 900.0, 650.0, 820.0,\n",
        "       850.0, 900.0, 1015.0, 820.0, 1100.0, 1000.0, 1100.0, 1000.0,\n",
        "       1000.0])"
      ]
    },
    {
      "cell_type": "code",
      "execution_count": 9,
      "id": "3a27df49",
      "metadata": {
        "id": "3a27df49",
        "outputId": "3f0c6ac9-c931-4f68-845d-a11da10d588a",
        "colab": {
          "base_uri": "https://localhost:8080/"
        }
      },
      "outputs": [
        {
          "output_type": "stream",
          "name": "stdout",
          "text": [
            "[1241.83860323]\n"
          ]
        }
      ],
      "source": [
        "from sklearn.model_selection import train_test_split as tts\n",
        "train_input, test_input, train_target, test_target = tts(perch_length, perch_weight, random_state = 42)\n",
        "train_input = train_input.reshape(-1, 1)\n",
        "test_input = test_input.reshape(-1, 1)\n",
        "\n",
        "from sklearn.linear_model import LinearRegression\n",
        "lr = LinearRegression()\n",
        "lr.fit(train_input, train_target)\n",
        "print(lr.predict([[50]]))"
      ]
    },
    {
      "cell_type": "code",
      "source": [
        "# 선형 회귀 모델이 찾은 y = ax + b에서의 a, b\n",
        "a = lr.coef_\n",
        "b = lr.intercept_\n",
        "print(f'a = {a}, b = {b}')"
      ],
      "metadata": {
        "id": "D1wAAca2WxSM",
        "outputId": "5ef14f63-cfdf-4fea-835e-9c76d0d836d1",
        "colab": {
          "base_uri": "https://localhost:8080/"
        }
      },
      "id": "D1wAAca2WxSM",
      "execution_count": 11,
      "outputs": [
        {
          "output_type": "stream",
          "name": "stdout",
          "text": [
            "a = [39.01714496], b = -709.0186449535477\n"
          ]
        }
      ]
    },
    {
      "cell_type": "code",
      "source": [
        "# 직선 그리기\n",
        "import matplotlib.pyplot as plt\n",
        "plt.scatter(train_input, train_target)\n",
        "plt.plot([15, 50], [15 * a + b, 50 * a + b])\n",
        "plt.scatter(50, 1241.8, marker = '^')\n",
        "plt.xlabel('length')\n",
        "plt.ylabel('weight')\n",
        "plt.show()\n"
      ],
      "metadata": {
        "id": "D9CqugZaXmoC",
        "outputId": "3d02bf89-39c0-4816-cd5a-37ae430c49da",
        "colab": {
          "base_uri": "https://localhost:8080/",
          "height": 279
        }
      },
      "id": "D9CqugZaXmoC",
      "execution_count": 14,
      "outputs": [
        {
          "output_type": "display_data",
          "data": {
            "text/plain": [
              "<Figure size 432x288 with 1 Axes>"
            ],
            "image/png": "[encoded data removed]"
          },
          "metadata": {
            "needs_background": "light"
          }
        }
      ]
    },
    {
      "cell_type": "code",
      "source": [
        "# 훈련 점수 확인\n",
        "print(lr.score(train_input, train_target))\n",
        "print(lr.score(test_input, test_target))"
      ],
      "metadata": {
        "id": "NMOvqQeluSJp",
        "outputId": "79d3eb91-ae78-4c9b-8c9e-04ab11eb1584",
        "colab": {
          "base_uri": "https://localhost:8080/"
        }
      },
      "id": "NMOvqQeluSJp",
      "execution_count": 15,
      "outputs": [
        {
          "output_type": "stream",
          "name": "stdout",
          "text": [
            "0.939846333997604\n",
            "0.8247503123313558\n"
          ]
        }
      ]
    },
    {
      "cell_type": "code",
      "source": [
        "# 훈련 점수는 과소적합(둘 다 낮으므로), 그래프도 무언가 이상하다\n",
        "# 길이와 무게의 관계가 2차 함수라면?\n",
        "\n",
        "train_poly = np.column_stack((train_input ** 2, train_input))\n",
        "test_poly = np.column_stack((test_input ** 2, test_input))\n",
        "print(train_poly.shape, test_poly.shape)"
      ],
      "metadata": {
        "id": "-GDm9jjruqHg",
        "outputId": "4beb89a8-c1ef-4bb8-9d89-238f2f9e5a4a",
        "colab": {
          "base_uri": "https://localhost:8080/"
        }
      },
      "id": "-GDm9jjruqHg",
      "execution_count": 27,
      "outputs": [
        {
          "output_type": "stream",
          "name": "stdout",
          "text": [
            "(42, 2) (14, 2)\n"
          ]
        }
      ]
    },
    {
      "cell_type": "code",
      "source": [
        "lr = LinearRegression()\n",
        "lr.fit(train_poly, train_target)\n",
        "lr.predict([[50**2, 50]])"
      ],
      "metadata": {
        "id": "wdZ2AUBAzt5Z",
        "outputId": "9a2acc08-bdb3-4a63-e69a-e243b446c433",
        "colab": {
          "base_uri": "https://localhost:8080/"
        }
      },
      "id": "wdZ2AUBAzt5Z",
      "execution_count": 28,
      "outputs": [
        {
          "output_type": "execute_result",
          "data": {
            "text/plain": [
              "array([1573.98423528])"
            ]
          },
          "metadata": {},
          "execution_count": 28
        }
      ]
    },
    {
      "cell_type": "code",
      "source": [
        "a1 = lr.coef_[0]\n",
        "a2 = lr.coef_[1]\n",
        "b = lr.intercept_\n",
        "\n",
        "print(f'a1 = {a1}, a2 = {a2}, b = {b}')"
      ],
      "metadata": {
        "id": "LjuLuy2r0FNo",
        "outputId": "eb4cb6bd-58ba-445c-beb3-51e21f106d5f",
        "colab": {
          "base_uri": "https://localhost:8080/"
        }
      },
      "id": "LjuLuy2r0FNo",
      "execution_count": 31,
      "outputs": [
        {
          "output_type": "stream",
          "name": "stdout",
          "text": [
            "a1 = 1.0143321093767301, a2 = -21.557924978837352, b = 116.0502107827827\n"
          ]
        }
      ]
    },
    {
      "cell_type": "code",
      "source": [
        "x = np.arange(0, 51)\n",
        "plt.scatter(train_input, train_target)\n",
        "plt.scatter(50, 1574, marker = '^')\n",
        "plt.plot(a1 * x ** 2 + a2 * x + b)\n",
        "plt.xlabel('length')\n",
        "plt.ylabel('weight')\n",
        "plt.show()"
      ],
      "metadata": {
        "id": "IHnkV1dk0PYR",
        "outputId": "9aba4c6a-208e-40ec-b3e1-2816153a3952",
        "colab": {
          "base_uri": "https://localhost:8080/",
          "height": 279
        }
      },
      "id": "IHnkV1dk0PYR",
      "execution_count": 37,
      "outputs": [
        {
          "output_type": "display_data",
          "data": {
            "text/plain": [
              "<Figure size 432x288 with 1 Axes>"
            ],
            "image/png": "[encoded data removed]"
          },
          "metadata": {
            "needs_background": "light"
          }
        }
      ]
    },
    {
      "cell_type": "code",
      "source": [
        "print(lr.score(train_poly, train_target))\n",
        "print(lr.score(test_poly, test_target))"
      ],
      "metadata": {
        "id": "Ex8Kbq4-0r4n",
        "outputId": "93fbc267-0dbd-4d9a-e391-521849e3a135",
        "colab": {
          "base_uri": "https://localhost:8080/"
        }
      },
      "id": "Ex8Kbq4-0r4n",
      "execution_count": 39,
      "outputs": [
        {
          "output_type": "stream",
          "name": "stdout",
          "text": [
            "0.9706807451768623\n",
            "0.9775935108325122\n"
          ]
        }
      ]
    },
    {
      "cell_type": "code",
      "source": [
        "# 과제. 과소적합을 어떻게 해결할 것인가?"
      ],
      "metadata": {
        "id": "5tNeiZL_13g5"
      },
      "id": "5tNeiZL_13g5",
      "execution_count": null,
      "outputs": []
    }
  ],
  "metadata": {
    "kernelspec": {
      "display_name": "Python 3 (ipykernel)",
      "language": "python",
      "name": "python3"
    },
    "language_info": {
      "codemirror_mode": {
        "name": "ipython",
        "version": 3
      },
      "file_extension": ".py",
      "mimetype": "text/x-python",
      "name": "python",
      "nbconvert_exporter": "python",
      "pygments_lexer": "ipython3",
      "version": "3.9.7"
    },
    "colab": {
      "name": "00. Untitled.ipynb",
      "provenance": [],
      "include_colab_link": true
    }
  },
  "nbformat": 4,
  "nbformat_minor": 5
}