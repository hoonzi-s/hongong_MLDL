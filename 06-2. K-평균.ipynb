{
  "cells": [
    {
      "cell_type": "markdown",
      "metadata": {
        "id": "view-in-github",
        "colab_type": "text"
      },
      "source": [
        "<a href=\"https://colab.research.google.com/github/hoonzi-s/hongong_MLDL/blob/main/06-2.%20K-%ED%8F%89%EA%B7%A0.ipynb\" target=\"_parent\"><img src=\"https://colab.research.google.com/assets/colab-badge.svg\" alt=\"Open In Colab\"/></a>"
      ]
    },
    {
      "cell_type": "code",
      "execution_count": 6,
      "id": "01f25715",
      "metadata": {
        "id": "01f25715",
        "outputId": "8d4e92b0-d64b-4f64-d3d4-ee51bd348f2c",
        "colab": {
          "base_uri": "https://localhost:8080/"
        }
      },
      "outputs": [
        {
          "output_type": "stream",
          "name": "stdout",
          "text": [
            "--2022-03-28 08:20:26--  https://bit.ly/fruits_300_data\n",
            "Resolving bit.ly (bit.ly)... 67.199.248.11, 67.199.248.10\n",
            "Connecting to bit.ly (bit.ly)|67.199.248.11|:443... connected.\n",
            "HTTP request sent, awaiting response... 301 Moved Permanently\n",
            "Location: https://github.com/rickiepark/hg-mldl/raw/master/fruits_300.npy [following]\n",
            "--2022-03-28 08:20:26--  https://github.com/rickiepark/hg-mldl/raw/master/fruits_300.npy\n",
            "Resolving github.com (github.com)... 140.82.112.3\n",
            "Connecting to github.com (github.com)|140.82.112.3|:443... connected.\n",
            "HTTP request sent, awaiting response... 302 Found\n",
            "Location: https://raw.githubusercontent.com/rickiepark/hg-mldl/master/fruits_300.npy [following]\n",
            "--2022-03-28 08:20:26--  https://raw.githubusercontent.com/rickiepark/hg-mldl/master/fruits_300.npy\n",
            "Resolving raw.githubusercontent.com (raw.githubusercontent.com)... 185.199.111.133, 185.199.108.133, 185.199.110.133, ...\n",
            "Connecting to raw.githubusercontent.com (raw.githubusercontent.com)|185.199.111.133|:443... connected.\n",
            "HTTP request sent, awaiting response... 200 OK\n",
            "Length: 3000128 (2.9M) [application/octet-stream]\n",
            "Saving to: ‘fruits_300_data.2’\n",
            "\n",
            "fruits_300_data.2   100%[===================>]   2.86M  --.-KB/s    in 0.01s   \n",
            "\n",
            "2022-03-28 08:20:26 (216 MB/s) - ‘fruits_300_data.2’ saved [3000128/3000128]\n",
            "\n",
            "--2022-03-28 08:20:26--  http://fruits_300.npy/\n",
            "Resolving fruits_300.npy (fruits_300.npy)... failed: Name or service not known.\n",
            "wget: unable to resolve host address ‘fruits_300.npy’\n",
            "FINISHED --2022-03-28 08:20:26--\n",
            "Total wall clock time: 0.5s\n",
            "Downloaded: 1 files, 2.9M in 0.01s (216 MB/s)\n"
          ]
        }
      ],
      "source": [
        "!wget https://bit.ly/fruits_300_data fruits_300.npy"
      ]
    },
    {
      "cell_type": "code",
      "execution_count": 10,
      "id": "3a27df49",
      "metadata": {
        "id": "3a27df49"
      },
      "outputs": [],
      "source": [
        "import numpy as np\n",
        "fruits = np.load('fruits_300_data')\n",
        "fruits_2d = fruits.reshape(-1, 10000)"
      ]
    },
    {
      "cell_type": "code",
      "source": [
        "from sklearn.cluster import KMeans\n",
        "km = KMeans(n_clusters = 3, random_state = 42)\n",
        "km.fit(fruits_2d)"
      ],
      "metadata": {
        "id": "UiV50pubnRQY",
        "outputId": "8933a3ba-0de0-48d0-ad57-fa018321b16d",
        "colab": {
          "base_uri": "https://localhost:8080/"
        }
      },
      "id": "UiV50pubnRQY",
      "execution_count": 12,
      "outputs": [
        {
          "output_type": "execute_result",
          "data": {
            "text/plain": [
              "KMeans(n_clusters=3, random_state=42)"
            ]
          },
          "metadata": {},
          "execution_count": 12
        }
      ]
    },
    {
      "cell_type": "code",
      "source": [
        "km.labels_"
      ],
      "metadata": {
        "id": "2MlwVB19nV8H",
        "outputId": "994b1b57-a314-4954-cc09-b40841889b3e",
        "colab": {
          "base_uri": "https://localhost:8080/"
        }
      },
      "id": "2MlwVB19nV8H",
      "execution_count": 13,
      "outputs": [
        {
          "output_type": "execute_result",
          "data": {
            "text/plain": [
              "array([2, 2, 2, 2, 2, 0, 2, 2, 2, 2, 2, 2, 2, 2, 2, 2, 2, 2, 0, 2, 2, 2,\n",
              "       2, 2, 2, 2, 2, 2, 2, 2, 2, 2, 2, 2, 2, 2, 2, 2, 2, 2, 2, 2, 0, 2,\n",
              "       0, 2, 2, 2, 2, 2, 2, 2, 0, 2, 2, 2, 2, 2, 2, 2, 2, 2, 0, 0, 2, 2,\n",
              "       2, 2, 2, 2, 2, 2, 0, 2, 2, 2, 2, 2, 2, 2, 2, 2, 2, 2, 2, 2, 2, 2,\n",
              "       2, 2, 2, 0, 2, 2, 2, 2, 2, 2, 2, 2, 0, 0, 0, 0, 0, 0, 0, 0, 0, 0,\n",
              "       0, 0, 0, 0, 0, 0, 0, 0, 0, 0, 0, 0, 0, 0, 0, 0, 0, 0, 0, 0, 0, 0,\n",
              "       0, 0, 0, 0, 0, 0, 0, 0, 0, 0, 0, 0, 0, 0, 0, 0, 0, 0, 0, 0, 0, 0,\n",
              "       0, 0, 0, 0, 0, 0, 0, 0, 0, 0, 0, 0, 0, 0, 0, 0, 0, 0, 0, 0, 0, 0,\n",
              "       0, 0, 0, 0, 0, 0, 0, 0, 0, 0, 0, 0, 0, 0, 0, 0, 0, 0, 0, 0, 0, 0,\n",
              "       0, 0, 1, 1, 1, 1, 1, 1, 1, 1, 1, 1, 1, 1, 1, 1, 1, 1, 1, 1, 1, 1,\n",
              "       1, 1, 1, 1, 1, 1, 1, 1, 1, 1, 1, 0, 1, 1, 1, 1, 1, 1, 1, 1, 1, 1,\n",
              "       1, 1, 1, 1, 1, 1, 1, 1, 1, 1, 1, 1, 1, 1, 1, 1, 1, 1, 1, 1, 1, 1,\n",
              "       1, 1, 1, 1, 1, 1, 1, 1, 1, 0, 1, 1, 1, 1, 1, 1, 1, 1, 1, 1, 1, 1,\n",
              "       1, 1, 1, 1, 1, 1, 1, 1, 1, 1, 1, 1, 1, 1], dtype=int32)"
            ]
          },
          "metadata": {},
          "execution_count": 13
        }
      ]
    },
    {
      "cell_type": "code",
      "source": [
        "np.unique(km.labels_, return_counts = True)"
      ],
      "metadata": {
        "id": "PyvtnqwRnnz6",
        "outputId": "02620401-01f7-4158-e1f8-0db1b9249d6a",
        "colab": {
          "base_uri": "https://localhost:8080/"
        }
      },
      "id": "PyvtnqwRnnz6",
      "execution_count": 14,
      "outputs": [
        {
          "output_type": "execute_result",
          "data": {
            "text/plain": [
              "(array([0, 1, 2], dtype=int32), array([111,  98,  91]))"
            ]
          },
          "metadata": {},
          "execution_count": 14
        }
      ]
    },
    {
      "cell_type": "code",
      "source": [
        ""
      ],
      "metadata": {
        "id": "1kA3zRt-nr0S"
      },
      "id": "1kA3zRt-nr0S",
      "execution_count": null,
      "outputs": []
    }
  ],
  "metadata": {
    "kernelspec": {
      "display_name": "Python 3 (ipykernel)",
      "language": "python",
      "name": "python3"
    },
    "language_info": {
      "codemirror_mode": {
        "name": "ipython",
        "version": 3
      },
      "file_extension": ".py",
      "mimetype": "text/x-python",
      "name": "python",
      "nbconvert_exporter": "python",
      "pygments_lexer": "ipython3",
      "version": "3.9.7"
    },
    "colab": {
      "name": "00. Untitled.ipynb",
      "provenance": [],
      "include_colab_link": true
    }
  },
  "nbformat": 4,
  "nbformat_minor": 5
}