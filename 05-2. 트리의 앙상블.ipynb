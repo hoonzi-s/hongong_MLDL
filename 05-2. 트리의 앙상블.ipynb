{
  "cells": [
    {
      "cell_type": "markdown",
      "metadata": {
        "id": "view-in-github",
        "colab_type": "text"
      },
      "source": [
        "<a href=\"https://colab.research.google.com/github/hoonzi-s/hongong_MLDL/blob/main/05-2.%20%ED%8A%B8%EB%A6%AC%EC%9D%98%20%EC%95%99%EC%83%81%EB%B8%94.ipynb\" target=\"_parent\"><img src=\"https://colab.research.google.com/assets/colab-badge.svg\" alt=\"Open In Colab\"/></a>"
      ]
    },
    {
      "cell_type": "markdown",
      "source": [
        "# 시작하기 전에"
      ],
      "metadata": {
        "id": "e9gZ0V4xbo1U"
      },
      "id": "e9gZ0V4xbo1U"
    },
    {
      "cell_type": "markdown",
      "source": [
        "정형 데이터를 다루는 가장 성능 좋은 알고리즘: 앙상블 학습"
      ],
      "metadata": {
        "id": "009_ddXGboSY"
      },
      "id": "009_ddXGboSY"
    },
    {
      "cell_type": "markdown",
      "source": [
        "# 랜덤 포레스트\n",
        "앙상블 학습을 적용할 때 가장 먼저 시도할 알고리즘. 안정적인 성능\n",
        "\n",
        "랜덤하게 만들어 트리 숲을 만들고 각 결정 트리의 예측을 사용해 최종 예측 결정"
      ],
      "metadata": {
        "id": "55LfCNeUIeF2"
      },
      "id": "55LfCNeUIeF2"
    },
    {
      "cell_type": "code",
      "execution_count": 2,
      "id": "01f25715",
      "metadata": {
        "id": "01f25715"
      },
      "outputs": [],
      "source": [
        "import numpy as np\n",
        "import pandas as pd\n",
        "from sklearn.model_selection import train_test_split as tts\n",
        "wine = pd.read_csv('https://bit.ly/wine_csv_data')\n",
        "input = wine[['alcohol', 'sugar', 'pH']]\n",
        "target = wine['class']\n",
        "train_input, test_input, train_target, test_target = tts(input, target, test_size = 0.2, random_state = 42)"
      ]
    },
    {
      "cell_type": "code",
      "execution_count": 5,
      "id": "3a27df49",
      "metadata": {
        "id": "3a27df49",
        "colab": {
          "base_uri": "https://localhost:8080/"
        },
        "outputId": "bea4f850-a35a-4441-8d44-a1cc5870182b"
      },
      "outputs": [
        {
          "output_type": "stream",
          "name": "stdout",
          "text": [
            "0.9973541965122431\n",
            "0.8905151032797809\n"
          ]
        }
      ],
      "source": [
        "from sklearn.model_selection import cross_validate\n",
        "from sklearn.ensemble import RandomForestClassifier\n",
        "rf = RandomForestClassifier(n_jobs = -1, random_state = 42)\n",
        "scores = cross_validate(rf, train_input, train_target, return_train_score = True, n_jobs = -1)\n",
        "print(np.mean(scores['train_score']))\n",
        "print(np.mean(scores['test_score']))"
      ]
    },
    {
      "cell_type": "code",
      "source": [
        "# 결정 트리의 장점 중 하나 - 특성 중요도 계산\n",
        "rf.fit(train_input, train_target)\n",
        "rf.feature_importances_"
      ],
      "metadata": {
        "colab": {
          "base_uri": "https://localhost:8080/"
        },
        "id": "w6JPKv7DJMQM",
        "outputId": "2f2f922b-2f3b-425a-fc00-d0f256d7685a"
      },
      "id": "w6JPKv7DJMQM",
      "execution_count": 6,
      "outputs": [
        {
          "output_type": "execute_result",
          "data": {
            "text/plain": [
              "array([0.23167441, 0.50039841, 0.26792718])"
            ]
          },
          "metadata": {},
          "execution_count": 6
        }
      ]
    },
    {
      "cell_type": "code",
      "source": [
        "# 부트스트랩 샘플에 포함되지 않고 남는 샘플: OOB(OUT OF BAG) 샘플\n",
        "# OOB 샘플을 검증 세트로 활용\n",
        "rf = RandomForestClassifier(oob_score = True, n_jobs = -1, random_state = 42)\n",
        "rf.fit(train_input, train_target)\n",
        "rf.oob_score_"
      ],
      "metadata": {
        "colab": {
          "base_uri": "https://localhost:8080/"
        },
        "id": "UtYvI3qlJzBL",
        "outputId": "170331d8-c89f-4691-83ec-7697512832ec"
      },
      "id": "UtYvI3qlJzBL",
      "execution_count": 8,
      "outputs": [
        {
          "output_type": "execute_result",
          "data": {
            "text/plain": [
              "0.8934000384837406"
            ]
          },
          "metadata": {},
          "execution_count": 8
        }
      ]
    },
    {
      "cell_type": "markdown",
      "source": [
        "# 엑스트라 트리"
      ],
      "metadata": {
        "id": "S3s1aEufJ2iz"
      },
      "id": "S3s1aEufJ2iz"
    },
    {
      "cell_type": "code",
      "source": [
        "from sklearn.ensemble import ExtraTreesClassifier\n",
        "et = ExtraTreesClassifier(n_jobs = -1, random_state = 42)\n",
        "scores = cross_validate(et, train_input, train_target, n_jobs = -1, return_train_score = True)\n",
        "print(np.mean(scores['train_score']))\n",
        "print(np.mean(scores['test_score']))"
      ],
      "metadata": {
        "colab": {
          "base_uri": "https://localhost:8080/"
        },
        "id": "CnfkKjCAMLFl",
        "outputId": "26719cde-1c7a-4c6d-a6c0-9ea42e21005f"
      },
      "id": "CnfkKjCAMLFl",
      "execution_count": 9,
      "outputs": [
        {
          "output_type": "stream",
          "name": "stdout",
          "text": [
            "0.9974503966084433\n",
            "0.8887848893166506\n"
          ]
        }
      ]
    },
    {
      "cell_type": "code",
      "source": [
        "et.fit(train_input, train_target)\n",
        "et.feature_importances_"
      ],
      "metadata": {
        "colab": {
          "base_uri": "https://localhost:8080/"
        },
        "id": "bCJsJaXfMntf",
        "outputId": "0cc0a219-55cb-4fd6-8064-ebf2f6f705e3"
      },
      "id": "bCJsJaXfMntf",
      "execution_count": 11,
      "outputs": [
        {
          "output_type": "execute_result",
          "data": {
            "text/plain": [
              "array([0.20183568, 0.52242907, 0.27573525])"
            ]
          },
          "metadata": {},
          "execution_count": 11
        }
      ]
    },
    {
      "cell_type": "markdown",
      "source": [
        "#그라디언트 부스팅"
      ],
      "metadata": {
        "id": "gCNlAduEN1NT"
      },
      "id": "gCNlAduEN1NT"
    },
    {
      "cell_type": "code",
      "source": [
        "from sklearn.ensemble import GradientBoostingClassifier\n",
        "gb = GradientBoostingClassifier(random_state = 42)\n",
        "scores = cross_validate(gb, train_input, train_target, n_jobs = -1, return_train_score = 42)\n",
        "print(np.mean(scores['train_score']))\n",
        "print(np.mean(scores['test_score']))"
      ],
      "metadata": {
        "colab": {
          "base_uri": "https://localhost:8080/"
        },
        "id": "QouMiAsNN99U",
        "outputId": "e7cb48a8-31c7-40a0-8deb-a3ba9f38b4b0"
      },
      "id": "QouMiAsNN99U",
      "execution_count": 12,
      "outputs": [
        {
          "output_type": "stream",
          "name": "stdout",
          "text": [
            "0.8881086892152563\n",
            "0.8720430147331015\n"
          ]
        }
      ]
    },
    {
      "cell_type": "code",
      "source": [
        "gb.fit(train_input, train_target)\n",
        "gb.feature_importances_"
      ],
      "metadata": {
        "colab": {
          "base_uri": "https://localhost:8080/"
        },
        "id": "VXl1yMQMOi26",
        "outputId": "f3a6991f-feff-4419-901e-69c92fad6b65"
      },
      "id": "VXl1yMQMOi26",
      "execution_count": 13,
      "outputs": [
        {
          "output_type": "execute_result",
          "data": {
            "text/plain": [
              "array([0.11949946, 0.74871836, 0.13178218])"
            ]
          },
          "metadata": {},
          "execution_count": 13
        }
      ]
    },
    {
      "cell_type": "code",
      "source": [
        "# 학습률, 트리 개수 증가\n",
        "gb = GradientBoostingClassifier(n_estimators = 500, learning_rate = 0.2, random_state = 42)\n",
        "scores = cross_validate(gb, train_input, train_target, n_jobs = -1, return_train_score = True)\n",
        "print(np.mean(scores['train_score']))\n",
        "print(np.mean(scores['test_score']))"
      ],
      "metadata": {
        "colab": {
          "base_uri": "https://localhost:8080/"
        },
        "id": "h-OD5dXsOnQJ",
        "outputId": "9e55dee0-4d8f-4bb6-a9c9-a4943982b4d4"
      },
      "id": "h-OD5dXsOnQJ",
      "execution_count": 14,
      "outputs": [
        {
          "output_type": "stream",
          "name": "stdout",
          "text": [
            "0.9464595437171814\n",
            "0.8780082549788999\n"
          ]
        }
      ]
    },
    {
      "cell_type": "code",
      "source": [
        "gb.fit(train_input, train_target)\n",
        "gb.feature_importances_"
      ],
      "metadata": {
        "colab": {
          "base_uri": "https://localhost:8080/"
        },
        "id": "uFYwFGflPBDe",
        "outputId": "cea545c1-4dbd-4190-d733-81d8affc4fac"
      },
      "id": "uFYwFGflPBDe",
      "execution_count": 15,
      "outputs": [
        {
          "output_type": "execute_result",
          "data": {
            "text/plain": [
              "array([0.15872278, 0.68010884, 0.16116839])"
            ]
          },
          "metadata": {},
          "execution_count": 15
        }
      ]
    },
    {
      "cell_type": "markdown",
      "source": [
        "#히스토그램 기반 그라디언트 부스팅\n",
        "그라디언트 부스팅의 속도와 성능 개선"
      ],
      "metadata": {
        "id": "gUddAO3-PQS5"
      },
      "id": "gUddAO3-PQS5"
    },
    {
      "cell_type": "code",
      "source": [
        "from sklearn.ensemble import HistGradientBoostingClassifier\n",
        "hgb = HistGradientBoostingClassifier(random_state = 42)\n",
        "scores = cross_validate(hgb, train_input, train_target, return_train_score = True)\n",
        "print(np.mean(scores['train_score']))\n",
        "print(np.mean(scores['test_score']))"
      ],
      "metadata": {
        "colab": {
          "base_uri": "https://localhost:8080/"
        },
        "id": "Npy35hhzPc-R",
        "outputId": "44817b6e-bee2-4aef-99c6-a81dd0da4864"
      },
      "id": "Npy35hhzPc-R",
      "execution_count": 16,
      "outputs": [
        {
          "output_type": "stream",
          "name": "stdout",
          "text": [
            "0.9321723946453317\n",
            "0.8801241948619236\n"
          ]
        }
      ]
    },
    {
      "cell_type": "code",
      "source": [
        "from sklearn.inspection import permutation_importance\n",
        "\n",
        "hgb.fit(train_input, train_target)\n",
        "result = permutation_importance(hgb, train_input, train_target, n_repeats = 10, random_state = 42, n_jobs = -1)\n",
        "result"
      ],
      "metadata": {
        "colab": {
          "base_uri": "https://localhost:8080/"
        },
        "id": "IYcI1eJdQ224",
        "outputId": "a241854b-f73b-45d8-c351-11d77cdbf969"
      },
      "id": "IYcI1eJdQ224",
      "execution_count": 18,
      "outputs": [
        {
          "output_type": "execute_result",
          "data": {
            "text/plain": [
              "{'importances': array([[0.08793535, 0.08350972, 0.08908986, 0.08312488, 0.09274581,\n",
              "         0.08755051, 0.08601116, 0.09601693, 0.09082163, 0.09082163],\n",
              "        [0.22782374, 0.23590533, 0.23936887, 0.23436598, 0.23725226,\n",
              "         0.23436598, 0.23359631, 0.23398114, 0.23994612, 0.22724649],\n",
              "        [0.08581874, 0.08601116, 0.08062344, 0.07504329, 0.08427939,\n",
              "         0.07792957, 0.07234943, 0.07465846, 0.08139311, 0.08466423]]),\n",
              " 'importances_mean': array([0.08876275, 0.23438522, 0.08027708]),\n",
              " 'importances_std': array([0.00382333, 0.00401363, 0.00477012])}"
            ]
          },
          "metadata": {},
          "execution_count": 18
        }
      ]
    },
    {
      "cell_type": "code",
      "source": [
        "result = permutation_importance(hgb, test_input, test_target, n_repeats = 10, random_state = 42, n_jobs = -1)\n",
        "result.importances_mean"
      ],
      "metadata": {
        "colab": {
          "base_uri": "https://localhost:8080/"
        },
        "id": "eeVQlmbyWNz9",
        "outputId": "8a596fc5-88d4-4364-a1f7-50d152bc7bc5"
      },
      "id": "eeVQlmbyWNz9",
      "execution_count": 19,
      "outputs": [
        {
          "output_type": "execute_result",
          "data": {
            "text/plain": [
              "array([0.05969231, 0.20238462, 0.049     ])"
            ]
          },
          "metadata": {},
          "execution_count": 19
        }
      ]
    },
    {
      "cell_type": "code",
      "source": [
        "hgb.score(test_input, test_target)"
      ],
      "metadata": {
        "colab": {
          "base_uri": "https://localhost:8080/"
        },
        "id": "7vSo-5coXAdN",
        "outputId": "2e231b96-6e9a-48c0-e75a-e9e2a5fea573"
      },
      "id": "7vSo-5coXAdN",
      "execution_count": 20,
      "outputs": [
        {
          "output_type": "execute_result",
          "data": {
            "text/plain": [
              "0.8723076923076923"
            ]
          },
          "metadata": {},
          "execution_count": 20
        }
      ]
    },
    {
      "cell_type": "code",
      "source": [
        "from xgboost import XGBClassifier\n",
        "xgb = XGBClassifier(tree_method = 'hist', random_state = 42)\n",
        "scores = cross_validate(xgb, train_input, train_target, return_train_score = True)\n",
        "print(np.mean(scores['train_score']))\n",
        "print(np.mean(scores['test_score']))"
      ],
      "metadata": {
        "colab": {
          "base_uri": "https://localhost:8080/"
        },
        "id": "4Sx5OLmzXDH2",
        "outputId": "79bd2e06-0bb0-4ff3-f9d3-87fae1d46edc"
      },
      "id": "4Sx5OLmzXDH2",
      "execution_count": 23,
      "outputs": [
        {
          "output_type": "stream",
          "name": "stdout",
          "text": [
            "0.8824322471423747\n",
            "0.8726214185237284\n"
          ]
        }
      ]
    },
    {
      "cell_type": "code",
      "source": [
        "from lightgbm import LGBMClassifier\n",
        "lgb = LGBMClassifier(random_state = 42)\n",
        "scores = cross_validate(lgb, train_input, train_target, return_train_score = True, n_jobs = -1)\n",
        "print(np.mean(scores['train_score']))\n",
        "print(np.mean(scores['test_score']))"
      ],
      "metadata": {
        "colab": {
          "base_uri": "https://localhost:8080/"
        },
        "id": "Co7kuRP4XSO9",
        "outputId": "6cd69478-e9d3-4eed-fd5b-a968d34c35ec"
      },
      "id": "Co7kuRP4XSO9",
      "execution_count": 24,
      "outputs": [
        {
          "output_type": "stream",
          "name": "stdout",
          "text": [
            "0.9338079582727165\n",
            "0.8789710890649293\n"
          ]
        }
      ]
    },
    {
      "cell_type": "code",
      "source": [
        ""
      ],
      "metadata": {
        "id": "vTFpTsSoYbPO"
      },
      "id": "vTFpTsSoYbPO",
      "execution_count": null,
      "outputs": []
    }
  ],
  "metadata": {
    "kernelspec": {
      "display_name": "Python 3 (ipykernel)",
      "language": "python",
      "name": "python3"
    },
    "language_info": {
      "codemirror_mode": {
        "name": "ipython",
        "version": 3
      },
      "file_extension": ".py",
      "mimetype": "text/x-python",
      "name": "python",
      "nbconvert_exporter": "python",
      "pygments_lexer": "ipython3",
      "version": "3.9.7"
    },
    "colab": {
      "name": "00. Untitled.ipynb",
      "provenance": [],
      "include_colab_link": true
    }
  },
  "nbformat": 4,
  "nbformat_minor": 5
}