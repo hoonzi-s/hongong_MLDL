{
  "cells": [
    {
      "cell_type": "markdown",
      "metadata": {
        "id": "view-in-github",
        "colab_type": "text"
      },
      "source": [
        "<a href=\"https://colab.research.google.com/github/hoonzi-s/hongong_mldl/blob/main/03-1.%20K-%EC%B5%9C%EA%B7%BC%EC%A0%91%20%EC%9D%B4%EC%9B%83%20%ED%9A%8C%EA%B7%80.ipynb\" target=\"_parent\"><img src=\"https://colab.research.google.com/assets/colab-badge.svg\" alt=\"Open In Colab\"/></a>"
      ]
    },
    {
      "cell_type": "code",
      "execution_count": 2,
      "id": "01f25715",
      "metadata": {
        "id": "01f25715"
      },
      "outputs": [],
      "source": [
        "import numpy as np\n",
        "perch_length = np.array([8.4, 13.7, 15.0, 16.2, 17.4, 18.0, 18.7, 19.0, 19.6, 20.0, 21.0,\n",
        "       21.0, 21.0, 21.3, 22.0, 22.0, 22.0, 22.0, 22.0, 22.5, 22.5, 22.7,\n",
        "       23.0, 23.5, 24.0, 24.0, 24.6, 25.0, 25.6, 26.5, 27.3, 27.5, 27.5,\n",
        "       27.5, 28.0, 28.7, 30.0, 32.8, 34.5, 35.0, 36.5, 36.0, 37.0, 37.0,\n",
        "       39.0, 39.0, 39.0, 40.0, 40.0, 40.0, 40.0, 42.0, 43.0, 43.0, 43.5,\n",
        "       44.0])\n",
        "perch_weight = np.array([5.9, 32.0, 40.0, 51.5, 70.0, 100.0, 78.0, 80.0, 85.0, 85.0, 110.0,\n",
        "       115.0, 125.0, 130.0, 120.0, 120.0, 130.0, 135.0, 110.0, 130.0,\n",
        "       150.0, 145.0, 150.0, 170.0, 225.0, 145.0, 188.0, 180.0, 197.0,\n",
        "       218.0, 300.0, 260.0, 265.0, 250.0, 250.0, 300.0, 320.0, 514.0,\n",
        "       556.0, 840.0, 685.0, 700.0, 700.0, 690.0, 900.0, 650.0, 820.0,\n",
        "       850.0, 900.0, 1015.0, 820.0, 1100.0, 1000.0, 1100.0, 1000.0,\n",
        "       1000.0])"
      ]
    },
    {
      "cell_type": "code",
      "execution_count": 5,
      "id": "3a27df49",
      "metadata": {
        "id": "3a27df49",
        "outputId": "7ab6d5b8-6d7f-4935-895e-065fb4eb08f2",
        "colab": {
          "base_uri": "https://localhost:8080/",
          "height": 279
        }
      },
      "outputs": [
        {
          "output_type": "display_data",
          "data": {
            "text/plain": [
              "<Figure size 432x288 with 1 Axes>"
            ],
            "image/png": "[encoded data removed]"
          },
          "metadata": {
            "needs_background": "light"
          }
        }
      ],
      "source": [
        "# 데이터가 어떤 형태를 띠는지 그려본다\n",
        "\n",
        "import matplotlib.pyplot as plt\n",
        "\n",
        "plt.scatter(perch_length, perch_weight)\n",
        "plt.xlabel('length')\n",
        "plt.ylabel('weight')\n",
        "plt.show()"
      ]
    },
    {
      "cell_type": "code",
      "source": [
        "# 훈련 세트, 테스트 세트 나누기\n",
        "\n",
        "from sklearn.model_selection import train_test_split as tts\n",
        "\n",
        "train_input, test_input, train_target, test_target = tts(perch_length, perch_weight, random_state = 42)\n",
        "\n",
        "train_input"
      ],
      "metadata": {
        "id": "w4wYD_XjrY34",
        "outputId": "ba36ff0a-acc5-44cd-9f65-eb059ef7dec7",
        "colab": {
          "base_uri": "https://localhost:8080/"
        }
      },
      "id": "w4wYD_XjrY34",
      "execution_count": 11,
      "outputs": [
        {
          "output_type": "execute_result",
          "data": {
            "text/plain": [
              "array([19.6, 22. , 18.7, 17.4, 36. , 25. , 40. , 39. , 43. , 22. , 20. ,\n",
              "       22. , 24. , 27.5, 43. , 40. , 24. , 21. , 27.5, 40. , 32.8, 26.5,\n",
              "       36.5, 13.7, 22.7, 15. , 37. , 35. , 28.7, 23.5, 39. , 21. , 23. ,\n",
              "       22. , 44. , 22.5, 19. , 37. , 22. , 25.6, 42. , 34.5])"
            ]
          },
          "metadata": {},
          "execution_count": 11
        }
      ]
    },
    {
      "cell_type": "code",
      "source": [
        "# 각 데이터셋은 2차원 배열이어야 함.\n",
        "train_input = train_input.reshape(-1, 1)\n",
        "test_input = test_input.reshape(-1, 1)\n",
        "train_target = train_target.reshape(-1, 1)\n",
        "test_target = test_target.reshape(-1, 1)"
      ],
      "metadata": {
        "id": "zMfj-GlhrxBY"
      },
      "id": "zMfj-GlhrxBY",
      "execution_count": 13,
      "outputs": []
    },
    {
      "cell_type": "code",
      "source": [
        "print(train_input.shape, test_input.shape)\n",
        "print(train_target.shape, test_target.shape)"
      ],
      "metadata": {
        "id": "NPFqmytFsP83",
        "outputId": "a76b9ea7-fea7-4923-ff65-2f96929aae0c",
        "colab": {
          "base_uri": "https://localhost:8080/"
        }
      },
      "id": "NPFqmytFsP83",
      "execution_count": 16,
      "outputs": [
        {
          "output_type": "stream",
          "name": "stdout",
          "text": [
            "(42, 1) (14, 1)\n",
            "(42, 1) (14, 1)\n"
          ]
        }
      ]
    },
    {
      "cell_type": "code",
      "source": [
        "from sklearn.neighbors import KNeighborsRegressor\n",
        "\n",
        "knr = KNeighborsRegressor()\n",
        "knr.fit(train_input, train_target)\n",
        "knr.score(test_input, test_target)"
      ],
      "metadata": {
        "id": "5-JuPBjMsXgn",
        "outputId": "74675bd6-6b2f-4f80-f768-0b19e712a108",
        "colab": {
          "base_uri": "https://localhost:8080/"
        }
      },
      "id": "5-JuPBjMsXgn",
      "execution_count": 18,
      "outputs": [
        {
          "output_type": "execute_result",
          "data": {
            "text/plain": [
              "0.992809406101064"
            ]
          },
          "metadata": {},
          "execution_count": 18
        }
      ]
    },
    {
      "cell_type": "code",
      "source": [
        "from sklearn.metrics import mean_absolute_error\n",
        "\n",
        "# 테스트 세트에 대한 예측\n",
        "test_prediction = knr.predict(test_input)\n",
        "\n",
        "# 테스트 세트에 대한 평균 절댓값 오차 계산\n",
        "mae = mean_absolute_error(test_target,test_prediction)\n",
        "mae"
      ],
      "metadata": {
        "id": "j_DUvGNE8ZLi",
        "outputId": "8623a2a5-c464-4d44-8ce1-a5dc65e711a4",
        "colab": {
          "base_uri": "https://localhost:8080/"
        }
      },
      "id": "j_DUvGNE8ZLi",
      "execution_count": 19,
      "outputs": [
        {
          "output_type": "execute_result",
          "data": {
            "text/plain": [
              "19.157142857142862"
            ]
          },
          "metadata": {},
          "execution_count": 19
        }
      ]
    },
    {
      "cell_type": "code",
      "source": [
        "# 훈련 세트로 R^2 점수 확인\n",
        "knr.score(train_input, train_target)"
      ],
      "metadata": {
        "id": "J3az87VD-COy",
        "outputId": "cd625fca-6561-44ac-cf76-6b6936b8ea96",
        "colab": {
          "base_uri": "https://localhost:8080/"
        }
      },
      "id": "J3az87VD-COy",
      "execution_count": 21,
      "outputs": [
        {
          "output_type": "execute_result",
          "data": {
            "text/plain": [
              "0.9698823289099254"
            ]
          },
          "metadata": {},
          "execution_count": 21
        }
      ]
    },
    {
      "cell_type": "code",
      "source": [
        "# 훈련 세트 점수 < 테스트 세트 점수 --> 과소적합\n",
        "# 훈련 세트 점수 > 테스트 세트 점수 --> 과대적합\n",
        "# 지금은 과소적합이니까 모델을 더 복잡하게 만드면 된다 --> 이웃 개수를 줄인다\n",
        "\n",
        "knr.n_neighbors = 3   # 기본값은 5\n",
        "knr.fit(train_input, train_target)\n",
        "print(knr.score(train_input, train_target))\n",
        "print(knr.score(test_input, test_target))"
      ],
      "metadata": {
        "id": "BAEozjPZB7xC",
        "outputId": "f8e17aa2-d5a7-4528-afc0-91cb0eee2d31",
        "colab": {
          "base_uri": "https://localhost:8080/"
        }
      },
      "id": "BAEozjPZB7xC",
      "execution_count": 24,
      "outputs": [
        {
          "output_type": "stream",
          "name": "stdout",
          "text": [
            "0.9804899950518966\n",
            "0.9746459963987609\n"
          ]
        }
      ]
    },
    {
      "cell_type": "code",
      "source": [
        "# 훈련 세트 점수가 더 높으니 과대적합이고 테스트 세트 점수도 낮지 않으니 적당한 모델이라고 판단\n",
        "# 일반적으로 훈련 세트의 점수가 테스트 세트 점수보다 조금 더 높다."
      ],
      "metadata": {
        "id": "DT3Z37I1EgUa"
      },
      "id": "DT3Z37I1EgUa",
      "execution_count": 25,
      "outputs": []
    },
    {
      "cell_type": "code",
      "source": [
        "knr = KNeighborsRegressor()\n",
        "x = np.arange(5, 46).reshape(-1, 1)\n",
        "\n",
        "for n in [1, 5, 10]:\n",
        "  knr.n_neighbors = n\n",
        "  knr.fit(train_input, train_target)  # 훈련\n",
        "  prediction = knr.predict(x)         # 지정한 x 범위에 따른 결과 예측\n",
        "\n",
        "  plt.scatter(train_input, train_target)\n",
        "  plt.plot(x, prediction)\n",
        "  plt.title(f'neighbors: {n}')\n",
        "  plt.xlabel('length')\n",
        "  plt.ylabel('weight')\n",
        "  plt.show()"
      ],
      "metadata": {
        "id": "KZav_6ChE6iW",
        "outputId": "1d2ba8b9-8449-4b65-b13e-4335071b8cbe",
        "colab": {
          "base_uri": "https://localhost:8080/",
          "height": 851
        }
      },
      "id": "KZav_6ChE6iW",
      "execution_count": 32,
      "outputs": [
        {
          "output_type": "display_data",
          "data": {
            "text/plain": [
              "<Figure size 432x288 with 1 Axes>"
            ],
            "image/png": "[encoded data removed]"
          },
          "metadata": {
            "needs_background": "light"
          }
        },
        {
          "output_type": "display_data",
          "data": {
            "text/plain": [
              "<Figure size 432x288 with 1 Axes>"
            ],
            "image/png": "[encoded data removed]"
          },
          "metadata": {
            "needs_background": "light"
          }
        },
        {
          "output_type": "display_data",
          "data": {
            "text/plain": [
              "<Figure size 432x288 with 1 Axes>"
            ],
            "image/png": "[encoded data removed]"
          },
          "metadata": {
            "needs_background": "light"
          }
        }
      ]
    },
    {
      "cell_type": "code",
      "source": [
        ""
      ],
      "metadata": {
        "id": "k7yF7yMpE6dT"
      },
      "id": "k7yF7yMpE6dT",
      "execution_count": null,
      "outputs": []
    }
  ],
  "metadata": {
    "kernelspec": {
      "display_name": "Python 3 (ipykernel)",
      "language": "python",
      "name": "python3"
    },
    "language_info": {
      "codemirror_mode": {
        "name": "ipython",
        "version": 3
      },
      "file_extension": ".py",
      "mimetype": "text/x-python",
      "name": "python",
      "nbconvert_exporter": "python",
      "pygments_lexer": "ipython3",
      "version": "3.9.7"
    },
    "colab": {
      "name": "00. Untitled.ipynb",
      "provenance": [],
      "include_colab_link": true
    }
  },
  "nbformat": 4,
  "nbformat_minor": 5
}