{
  "cells": [
    {
      "cell_type": "markdown",
      "metadata": {
        "id": "view-in-github",
        "colab_type": "text"
      },
      "source": [
        "<a href=\"https://colab.research.google.com/github/hoonzi-s/hongong_MLDL/blob/main/05-2.%20%EA%B5%90%EC%B0%A8%20%EA%B2%80%EC%A6%9D%EA%B3%BC%20%EA%B7%B8%EB%A6%AC%EB%93%9C%20%EC%84%9C%EC%B9%98.ipynb\" target=\"_parent\"><img src=\"https://colab.research.google.com/assets/colab-badge.svg\" alt=\"Open In Colab\"/></a>"
      ]
    },
    {
      "cell_type": "markdown",
      "source": [
        "# 검증 세트"
      ],
      "metadata": {
        "id": "vb6a664ckVCy"
      },
      "id": "vb6a664ckVCy"
    },
    {
      "cell_type": "code",
      "execution_count": 1,
      "id": "01f25715",
      "metadata": {
        "id": "01f25715"
      },
      "outputs": [],
      "source": [
        "import pandas as pd\n",
        "wine = pd.read_csv('https://bit.ly/wine_csv_data')"
      ]
    },
    {
      "cell_type": "code",
      "execution_count": 2,
      "id": "3a27df49",
      "metadata": {
        "id": "3a27df49"
      },
      "outputs": [],
      "source": [
        "data = wine[['alcohol', 'sugar', 'pH']].to_numpy()\n",
        "target = wine['class'].to_numpy()"
      ]
    },
    {
      "cell_type": "code",
      "source": [
        "from sklearn.model_selection import train_test_split as tts\n",
        "train_input, test_input, train_target, test_target = tts(data, target, test_size = 0.2, random_state = 42)"
      ],
      "metadata": {
        "id": "3q6bQg8LkpzE"
      },
      "id": "3q6bQg8LkpzE",
      "execution_count": 3,
      "outputs": []
    },
    {
      "cell_type": "code",
      "source": [
        "sub_input, val_input, sub_target, val_target = tts(train_input, train_target, test_size = 0.2, random_state = 42)"
      ],
      "metadata": {
        "id": "j9psVfLHkstW"
      },
      "id": "j9psVfLHkstW",
      "execution_count": 4,
      "outputs": []
    },
    {
      "cell_type": "code",
      "source": [
        "print(data.shape, train_input.shape, sub_input.shape, val_input.shape, test_input.shape)"
      ],
      "metadata": {
        "id": "uBGh2N1LlF77",
        "outputId": "0ca1d3c1-fa0c-4ae2-ce3e-d0331ad25fe2",
        "colab": {
          "base_uri": "https://localhost:8080/"
        }
      },
      "id": "uBGh2N1LlF77",
      "execution_count": 5,
      "outputs": [
        {
          "output_type": "stream",
          "name": "stdout",
          "text": [
            "(6497, 3) (5197, 3) (4157, 3) (1040, 3) (1300, 3)\n"
          ]
        }
      ]
    },
    {
      "cell_type": "code",
      "source": [
        "from sklearn.tree import DecisionTreeClassifier\n",
        "dt = DecisionTreeClassifier(random_state = 42)\n",
        "dt.fit(sub_input, sub_target)\n",
        "print(dt.score(sub_input, sub_target))\n",
        "print(dt.score(val_input, val_target))"
      ],
      "metadata": {
        "id": "Ahw0SeaBlLHq",
        "outputId": "c685651f-9cca-4f45-abc2-31841bda8fba",
        "colab": {
          "base_uri": "https://localhost:8080/"
        }
      },
      "id": "Ahw0SeaBlLHq",
      "execution_count": 6,
      "outputs": [
        {
          "output_type": "stream",
          "name": "stdout",
          "text": [
            "0.9971133028626413\n",
            "0.864423076923077\n"
          ]
        }
      ]
    },
    {
      "cell_type": "markdown",
      "source": [
        "# 교차 검증"
      ],
      "metadata": {
        "id": "E6xJizk5lkVL"
      },
      "id": "E6xJizk5lkVL"
    },
    {
      "cell_type": "code",
      "source": [
        "# k-폴드 교차 검증\n",
        "# 보통 5-폴드, 10-폴드 교차 검증을 많이 사용\n",
        "# 데이터의 80~90%까지 훈련에 사용 가능"
      ],
      "metadata": {
        "id": "i6o3Czaa_RqP"
      },
      "id": "i6o3Czaa_RqP",
      "execution_count": 7,
      "outputs": []
    },
    {
      "cell_type": "code",
      "source": [
        "# cross_validate() 교차 검증 함수 (기본적으로 5-폴드)\n",
        "from sklearn.model_selection import cross_validate\n",
        "scores = cross_validate(dt, train_input, train_target)\n",
        "scores"
      ],
      "metadata": {
        "id": "u8aJ5lNi_tNL",
        "outputId": "d57c1ba3-006a-4c6f-d1cf-baef01d75e0d",
        "colab": {
          "base_uri": "https://localhost:8080/"
        }
      },
      "id": "u8aJ5lNi_tNL",
      "execution_count": 8,
      "outputs": [
        {
          "output_type": "execute_result",
          "data": {
            "text/plain": [
              "{'fit_time': array([0.02180767, 0.02462482, 0.05100203, 0.01523638, 0.02298355]),\n",
              " 'score_time': array([0.00128388, 0.00118852, 0.00759387, 0.00130129, 0.0124886 ]),\n",
              " 'test_score': array([0.86923077, 0.84615385, 0.87680462, 0.84889317, 0.83541867])}"
            ]
          },
          "metadata": {},
          "execution_count": 8
        }
      ]
    },
    {
      "cell_type": "code",
      "source": [
        ""
      ],
      "metadata": {
        "id": "w8PABDDM__Aq"
      },
      "id": "w8PABDDM__Aq",
      "execution_count": null,
      "outputs": []
    }
  ],
  "metadata": {
    "kernelspec": {
      "display_name": "Python 3 (ipykernel)",
      "language": "python",
      "name": "python3"
    },
    "language_info": {
      "codemirror_mode": {
        "name": "ipython",
        "version": 3
      },
      "file_extension": ".py",
      "mimetype": "text/x-python",
      "name": "python",
      "nbconvert_exporter": "python",
      "pygments_lexer": "ipython3",
      "version": "3.9.7"
    },
    "colab": {
      "name": "00. Untitled.ipynb",
      "provenance": [],
      "toc_visible": true,
      "include_colab_link": true
    }
  },
  "nbformat": 4,
  "nbformat_minor": 5
}