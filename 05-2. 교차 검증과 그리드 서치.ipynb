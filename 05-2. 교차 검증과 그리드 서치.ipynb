{
  "cells": [
    {
      "cell_type": "markdown",
      "metadata": {
        "id": "view-in-github",
        "colab_type": "text"
      },
      "source": [
        "<a href=\"https://colab.research.google.com/github/hoonzi-s/hongong_MLDL/blob/main/05-2.%20%EA%B5%90%EC%B0%A8%20%EA%B2%80%EC%A6%9D%EA%B3%BC%20%EA%B7%B8%EB%A6%AC%EB%93%9C%20%EC%84%9C%EC%B9%98.ipynb\" target=\"_parent\"><img src=\"https://colab.research.google.com/assets/colab-badge.svg\" alt=\"Open In Colab\"/></a>"
      ]
    },
    {
      "cell_type": "markdown",
      "source": [
        "# 검증 세트"
      ],
      "metadata": {
        "id": "vb6a664ckVCy"
      },
      "id": "vb6a664ckVCy"
    },
    {
      "cell_type": "code",
      "execution_count": 1,
      "id": "01f25715",
      "metadata": {
        "id": "01f25715"
      },
      "outputs": [],
      "source": [
        "import pandas as pd\n",
        "wine = pd.read_csv('https://bit.ly/wine_csv_data')"
      ]
    },
    {
      "cell_type": "code",
      "execution_count": 2,
      "id": "3a27df49",
      "metadata": {
        "id": "3a27df49"
      },
      "outputs": [],
      "source": [
        "data = wine[['alcohol', 'sugar', 'pH']].to_numpy()\n",
        "target = wine['class'].to_numpy()"
      ]
    },
    {
      "cell_type": "code",
      "source": [
        "from sklearn.model_selection import train_test_split as tts\n",
        "train_input, test_input, train_target, test_target = tts(data, target, test_size = 0.2, random_state = 42)"
      ],
      "metadata": {
        "id": "3q6bQg8LkpzE"
      },
      "id": "3q6bQg8LkpzE",
      "execution_count": 3,
      "outputs": []
    },
    {
      "cell_type": "code",
      "source": [
        "sub_input, val_input, sub_target, val_target = tts(train_input, train_target, test_size = 0.2, random_state = 42)"
      ],
      "metadata": {
        "id": "j9psVfLHkstW"
      },
      "id": "j9psVfLHkstW",
      "execution_count": 4,
      "outputs": []
    },
    {
      "cell_type": "code",
      "source": [
        "print(data.shape, train_input.shape, sub_input.shape, val_input.shape, test_input.shape)"
      ],
      "metadata": {
        "id": "uBGh2N1LlF77",
        "outputId": "179c01e2-0bd1-4f6d-dad9-456155971432",
        "colab": {
          "base_uri": "https://localhost:8080/"
        }
      },
      "id": "uBGh2N1LlF77",
      "execution_count": 5,
      "outputs": [
        {
          "output_type": "stream",
          "name": "stdout",
          "text": [
            "(6497, 3) (5197, 3) (4157, 3) (1040, 3) (1300, 3)\n"
          ]
        }
      ]
    },
    {
      "cell_type": "code",
      "source": [
        "from sklearn.tree import DecisionTreeClassifier\n",
        "dt = DecisionTreeClassifier(random_state = 42)\n",
        "dt.fit(sub_input, sub_target)\n",
        "print(dt.score(sub_input, sub_target))\n",
        "print(dt.score(val_input, val_target))"
      ],
      "metadata": {
        "id": "Ahw0SeaBlLHq",
        "outputId": "16d93f2f-6e99-49cc-d0e0-544bf345f910",
        "colab": {
          "base_uri": "https://localhost:8080/"
        }
      },
      "id": "Ahw0SeaBlLHq",
      "execution_count": 6,
      "outputs": [
        {
          "output_type": "stream",
          "name": "stdout",
          "text": [
            "0.9971133028626413\n",
            "0.864423076923077\n"
          ]
        }
      ]
    },
    {
      "cell_type": "markdown",
      "source": [
        "# 교차 검증"
      ],
      "metadata": {
        "id": "E6xJizk5lkVL"
      },
      "id": "E6xJizk5lkVL"
    },
    {
      "cell_type": "code",
      "source": [
        "# k-폴드 교차 검증\n",
        "# 보통 5-폴드, 10-폴드 교차 검증을 많이 사용\n",
        "# 데이터의 80~90%까지 훈련에 사용 가능"
      ],
      "metadata": {
        "id": "i6o3Czaa_RqP"
      },
      "id": "i6o3Czaa_RqP",
      "execution_count": 7,
      "outputs": []
    },
    {
      "cell_type": "code",
      "source": [
        "# cross_validate() 교차 검증 함수 (기본적으로 5-폴드)\n",
        "from sklearn.model_selection import cross_validate\n",
        "scores = cross_validate(dt, train_input, train_target)\n",
        "scores"
      ],
      "metadata": {
        "id": "u8aJ5lNi_tNL",
        "outputId": "b5c2cb9a-a50e-43f0-ec8b-70aff46ec873",
        "colab": {
          "base_uri": "https://localhost:8080/"
        }
      },
      "id": "u8aJ5lNi_tNL",
      "execution_count": 8,
      "outputs": [
        {
          "output_type": "execute_result",
          "data": {
            "text/plain": [
              "{'fit_time': array([0.01079535, 0.0071578 , 0.00751424, 0.00746751, 0.00752425]),\n",
              " 'score_time': array([0.00087142, 0.00072956, 0.00075006, 0.00134039, 0.00083065]),\n",
              " 'test_score': array([0.86923077, 0.84615385, 0.87680462, 0.84889317, 0.83541867])}"
            ]
          },
          "metadata": {},
          "execution_count": 8
        }
      ]
    },
    {
      "cell_type": "code",
      "source": [
        "# 교차 검증의 최종 점수 구하기\n",
        "import numpy as np\n",
        "np.mean(scores['test_score'])"
      ],
      "metadata": {
        "id": "w8PABDDM__Aq",
        "outputId": "2e4f8893-6c2a-47cc-f4c9-072f7ee2721d",
        "colab": {
          "base_uri": "https://localhost:8080/"
        }
      },
      "id": "w8PABDDM__Aq",
      "execution_count": 10,
      "outputs": [
        {
          "output_type": "execute_result",
          "data": {
            "text/plain": [
              "0.855300214703487"
            ]
          },
          "metadata": {},
          "execution_count": 10
        }
      ]
    },
    {
      "cell_type": "code",
      "source": [
        "from sklearn.model_selection import StratifiedKFold\n",
        "scores = cross_validate(dt, train_input, train_target, cv = StratifiedKFold())\n",
        "np.mean(scores['test_score'])"
      ],
      "metadata": {
        "id": "IA2aFk_LGG6Y",
        "outputId": "c936aba9-277e-4029-cbf4-a6066eac3bac",
        "colab": {
          "base_uri": "https://localhost:8080/"
        }
      },
      "id": "IA2aFk_LGG6Y",
      "execution_count": 12,
      "outputs": [
        {
          "output_type": "execute_result",
          "data": {
            "text/plain": [
              "0.855300214703487"
            ]
          },
          "metadata": {},
          "execution_count": 12
        }
      ]
    },
    {
      "cell_type": "code",
      "source": [
        "# 훈련 세트 섞은 후 10-폴드 교차 검증\n",
        "splitter = StratifiedKFold(n_splits = 10, shuffle = True, random_state = 42)\n",
        "scores = cross_validate(dt, train_input, train_target, cv = splitter)\n",
        "np.mean(scores['test_score'])"
      ],
      "metadata": {
        "id": "m--QrEJOGd6E",
        "outputId": "2342ca95-d4b3-415d-f246-fc4742343068",
        "colab": {
          "base_uri": "https://localhost:8080/"
        }
      },
      "id": "m--QrEJOGd6E",
      "execution_count": 15,
      "outputs": [
        {
          "output_type": "execute_result",
          "data": {
            "text/plain": [
              "0.8574181117533719"
            ]
          },
          "metadata": {},
          "execution_count": 15
        }
      ]
    },
    {
      "cell_type": "markdown",
      "source": [
        "# 하이퍼파라미터 튜닝"
      ],
      "metadata": {
        "id": "fOuAsAugGzTv"
      },
      "id": "fOuAsAugGzTv"
    },
    {
      "cell_type": "code",
      "source": [
        "# 사이킷런의 GridSearchCV 클래스는 하이퍼파라미터 탐색과 교차 검증을 한번에 수행\n",
        "\n",
        "from sklearn.model_selection import GridSearchCV\n",
        "params = {'min_impurity_decrease': [0.0001, 0.0002, 0.0003, 0.0004, 0.0005]}\n",
        "params"
      ],
      "metadata": {
        "id": "ieFK0_tJI-Da",
        "outputId": "bf593cfc-facc-4e11-a39a-537e19f53859",
        "colab": {
          "base_uri": "https://localhost:8080/"
        }
      },
      "id": "ieFK0_tJI-Da",
      "execution_count": 21,
      "outputs": [
        {
          "output_type": "execute_result",
          "data": {
            "text/plain": [
              "{'min_impurity_decrease': [0.0001, 0.0002, 0.0003, 0.0004, 0.0005]}"
            ]
          },
          "metadata": {},
          "execution_count": 21
        }
      ]
    },
    {
      "cell_type": "code",
      "source": [
        "gs = GridSearchCV(DecisionTreeClassifier(random_state = 42), params, n_jobs = -1)"
      ],
      "metadata": {
        "id": "HzwV0mN6KsdY"
      },
      "id": "HzwV0mN6KsdY",
      "execution_count": 22,
      "outputs": []
    },
    {
      "cell_type": "code",
      "source": [
        "gs.fit(train_input, train_target)"
      ],
      "metadata": {
        "id": "pvEFUF7fKt5p",
        "outputId": "4512a23d-b360-4f56-e38d-9dba19e9edfb",
        "colab": {
          "base_uri": "https://localhost:8080/"
        }
      },
      "id": "pvEFUF7fKt5p",
      "execution_count": 23,
      "outputs": [
        {
          "output_type": "execute_result",
          "data": {
            "text/plain": [
              "GridSearchCV(estimator=DecisionTreeClassifier(random_state=42), n_jobs=-1,\n",
              "             param_grid={'min_impurity_decrease': [0.0001, 0.0002, 0.0003,\n",
              "                                                   0.0004, 0.0005]})"
            ]
          },
          "metadata": {},
          "execution_count": 23
        }
      ]
    },
    {
      "cell_type": "code",
      "source": [
        "# GreadSearchCV의 cv 매개변수 기본값은 5.\n",
        "# 즉 min_impurity_decrease 값마다 5-폴드 교차 검증 --> 총 25개 모델 훈련"
      ],
      "metadata": {
        "id": "lrAO4cIRK-M_"
      },
      "id": "lrAO4cIRK-M_",
      "execution_count": 24,
      "outputs": []
    },
    {
      "cell_type": "code",
      "source": [
        "# best_estimator_ 속성에 검증 점수가 가장 높은 모델의 매개변수 조합이 저장되어있음\n",
        "dt = gs.best_estimator_\n",
        "dt.score(train_input, train_target)"
      ],
      "metadata": {
        "id": "tVDeJnDTL6ze",
        "outputId": "5adbfe0b-1151-4cba-9c27-05bfe08c6d26",
        "colab": {
          "base_uri": "https://localhost:8080/"
        }
      },
      "id": "tVDeJnDTL6ze",
      "execution_count": 25,
      "outputs": [
        {
          "output_type": "execute_result",
          "data": {
            "text/plain": [
              "0.9615162593804117"
            ]
          },
          "metadata": {},
          "execution_count": 25
        }
      ]
    },
    {
      "cell_type": "code",
      "source": [
        "# best_params_ 속성에 최적의 매개변수 저장되어있음\n",
        "gs.best_params_"
      ],
      "metadata": {
        "id": "p6-XSvOdMLan",
        "outputId": "f7bc104d-6ef6-42c7-f983-b8b74e0e19c2",
        "colab": {
          "base_uri": "https://localhost:8080/"
        }
      },
      "id": "p6-XSvOdMLan",
      "execution_count": 26,
      "outputs": [
        {
          "output_type": "execute_result",
          "data": {
            "text/plain": [
              "{'min_impurity_decrease': 0.0001}"
            ]
          },
          "metadata": {},
          "execution_count": 26
        }
      ]
    },
    {
      "cell_type": "code",
      "source": [
        "# 각 매개변수에서 수행한 교차 검증의 평균 점수는 cv_results_ 속성의 mean_test_score 키에 저장되어있음\n",
        "gs.cv_results_['mean_test_score']"
      ],
      "metadata": {
        "id": "0J6Ad2stMSd-",
        "outputId": "a1df758b-6058-496b-ae01-c53970b5b12e",
        "colab": {
          "base_uri": "https://localhost:8080/"
        }
      },
      "id": "0J6Ad2stMSd-",
      "execution_count": 27,
      "outputs": [
        {
          "output_type": "execute_result",
          "data": {
            "text/plain": [
              "array([0.86819297, 0.86453617, 0.86492226, 0.86780891, 0.86761605])"
            ]
          },
          "metadata": {},
          "execution_count": 27
        }
      ]
    },
    {
      "cell_type": "code",
      "source": [
        "# 넘파이 argmax() 함수 사용하면 가장 큰 값의 인덱스 추출 가능\n",
        "best_index = np.argmax(gs.cv_results_['mean_test_score'])\n",
        "gs.cv_results_['params'][best_index]"
      ],
      "metadata": {
        "id": "QodcU5mHMbxH",
        "outputId": "fbc5cd6f-ae72-43cf-fa9a-e13cdecf6f4a",
        "colab": {
          "base_uri": "https://localhost:8080/"
        }
      },
      "id": "QodcU5mHMbxH",
      "execution_count": 30,
      "outputs": [
        {
          "output_type": "execute_result",
          "data": {
            "text/plain": [
              "{'min_impurity_decrease': 0.0001}"
            ]
          },
          "metadata": {},
          "execution_count": 30
        }
      ]
    },
    {
      "cell_type": "code",
      "source": [
        ""
      ],
      "metadata": {
        "id": "J2IKrq4GMrhO"
      },
      "id": "J2IKrq4GMrhO",
      "execution_count": null,
      "outputs": []
    }
  ],
  "metadata": {
    "kernelspec": {
      "display_name": "Python 3 (ipykernel)",
      "language": "python",
      "name": "python3"
    },
    "language_info": {
      "codemirror_mode": {
        "name": "ipython",
        "version": 3
      },
      "file_extension": ".py",
      "mimetype": "text/x-python",
      "name": "python",
      "nbconvert_exporter": "python",
      "pygments_lexer": "ipython3",
      "version": "3.9.7"
    },
    "colab": {
      "name": "00. Untitled.ipynb",
      "provenance": [],
      "toc_visible": true,
      "include_colab_link": true
    }
  },
  "nbformat": 4,
  "nbformat_minor": 5
}