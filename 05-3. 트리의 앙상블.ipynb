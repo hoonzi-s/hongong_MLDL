{
  "cells": [
    {
      "cell_type": "markdown",
      "metadata": {
        "id": "view-in-github",
        "colab_type": "text"
      },
      "source": [
        "<a href=\"https://colab.research.google.com/github/hoonzi-s/hongong_MLDL/blob/main/05-3.%20%ED%8A%B8%EB%A6%AC%EC%9D%98%20%EC%95%99%EC%83%81%EB%B8%94.ipynb\" target=\"_parent\"><img src=\"https://colab.research.google.com/assets/colab-badge.svg\" alt=\"Open In Colab\"/></a>"
      ]
    },
    {
      "cell_type": "markdown",
      "source": [
        "# 시작하기 전에"
      ],
      "metadata": {
        "id": "e9gZ0V4xbo1U"
      },
      "id": "e9gZ0V4xbo1U"
    },
    {
      "cell_type": "markdown",
      "source": [
        "정형 데이터를 다루는 가장 성능 좋은 알고리즘: 앙상블 학습"
      ],
      "metadata": {
        "id": "009_ddXGboSY"
      },
      "id": "009_ddXGboSY"
    },
    {
      "cell_type": "markdown",
      "source": [
        "# 랜덤 포레스트\n",
        "앙상블 학습을 적용할 때 가장 먼저 시도할 알고리즘. 안정적인 성능\n",
        "\n",
        "랜덤하게 만들어 트리 숲을 만들고 각 결정 트리의 예측을 사용해 최종 예측 결정"
      ],
      "metadata": {
        "id": "55LfCNeUIeF2"
      },
      "id": "55LfCNeUIeF2"
    },
    {
      "cell_type": "code",
      "execution_count": 27,
      "id": "01f25715",
      "metadata": {
        "id": "01f25715"
      },
      "outputs": [],
      "source": [
        "import numpy as np\n",
        "import pandas as pd\n",
        "from sklearn.model_selection import train_test_split as tts\n",
        "wine = pd.read_csv('https://bit.ly/wine_csv_data')\n",
        "input = wine[['alcohol', 'sugar', 'pH']]\n",
        "target = wine['class']\n",
        "train_input, test_input, train_target, test_target = tts(input, target, test_size = 0.2, random_state = 42)"
      ]
    },
    {
      "cell_type": "code",
      "execution_count": 28,
      "id": "3a27df49",
      "metadata": {
        "id": "3a27df49",
        "colab": {
          "base_uri": "https://localhost:8080/"
        },
        "outputId": "fdad15a1-1c9d-494d-86c8-e7e51ab346b3"
      },
      "outputs": [
        {
          "output_type": "stream",
          "name": "stdout",
          "text": [
            "0.9973541965122431\n",
            "0.8905151032797809\n"
          ]
        }
      ],
      "source": [
        "from sklearn.model_selection import cross_validate\n",
        "from sklearn.ensemble import RandomForestClassifier\n",
        "rf = RandomForestClassifier(n_jobs = -1, random_state = 42)\n",
        "scores = cross_validate(rf, train_input, train_target, return_train_score = True, n_jobs = -1)\n",
        "print(np.mean(scores['train_score']))\n",
        "print(np.mean(scores['test_score']))"
      ]
    },
    {
      "cell_type": "code",
      "source": [
        "# 결정 트리의 장점 중 하나 - 특성 중요도 계산\n",
        "rf.fit(train_input, train_target)\n",
        "rf.feature_importances_"
      ],
      "metadata": {
        "colab": {
          "base_uri": "https://localhost:8080/"
        },
        "id": "w6JPKv7DJMQM",
        "outputId": "166b47e5-e690-4da6-ab29-c1342c6b8a1c"
      },
      "id": "w6JPKv7DJMQM",
      "execution_count": 29,
      "outputs": [
        {
          "output_type": "execute_result",
          "data": {
            "text/plain": [
              "array([0.23167441, 0.50039841, 0.26792718])"
            ]
          },
          "metadata": {},
          "execution_count": 29
        }
      ]
    },
    {
      "cell_type": "code",
      "source": [
        "# 부트스트랩 샘플에 포함되지 않고 남는 샘플: OOB(OUT OF BAG) 샘플\n",
        "# OOB 샘플을 검증 세트로 활용\n",
        "rf = RandomForestClassifier(oob_score = True, n_jobs = -1, random_state = 42)\n",
        "rf.fit(train_input, train_target)\n",
        "rf.oob_score_"
      ],
      "metadata": {
        "colab": {
          "base_uri": "https://localhost:8080/"
        },
        "id": "UtYvI3qlJzBL",
        "outputId": "c596678e-8e2c-4abc-e8bd-264e8e7762f1"
      },
      "id": "UtYvI3qlJzBL",
      "execution_count": 30,
      "outputs": [
        {
          "output_type": "execute_result",
          "data": {
            "text/plain": [
              "0.8934000384837406"
            ]
          },
          "metadata": {},
          "execution_count": 30
        }
      ]
    },
    {
      "cell_type": "markdown",
      "source": [
        "# 엑스트라 트리"
      ],
      "metadata": {
        "id": "S3s1aEufJ2iz"
      },
      "id": "S3s1aEufJ2iz"
    },
    {
      "cell_type": "code",
      "source": [
        "from sklearn.ensemble import ExtraTreesClassifier\n",
        "et = ExtraTreesClassifier(n_jobs = -1, random_state = 42)\n",
        "scores = cross_validate(et, train_input, train_target, n_jobs = -1, return_train_score = True)\n",
        "print(np.mean(scores['train_score']))\n",
        "print(np.mean(scores['test_score']))"
      ],
      "metadata": {
        "colab": {
          "base_uri": "https://localhost:8080/"
        },
        "id": "CnfkKjCAMLFl",
        "outputId": "449403b4-6033-4ca2-b592-f418bc03d6db"
      },
      "id": "CnfkKjCAMLFl",
      "execution_count": 31,
      "outputs": [
        {
          "output_type": "stream",
          "name": "stdout",
          "text": [
            "0.9974503966084433\n",
            "0.8887848893166506\n"
          ]
        }
      ]
    },
    {
      "cell_type": "code",
      "source": [
        "et.fit(train_input, train_target)\n",
        "et.feature_importances_"
      ],
      "metadata": {
        "colab": {
          "base_uri": "https://localhost:8080/"
        },
        "id": "bCJsJaXfMntf",
        "outputId": "e7b42415-7855-415e-f97a-cac8bf20ae0b"
      },
      "id": "bCJsJaXfMntf",
      "execution_count": 32,
      "outputs": [
        {
          "output_type": "execute_result",
          "data": {
            "text/plain": [
              "array([0.20183568, 0.52242907, 0.27573525])"
            ]
          },
          "metadata": {},
          "execution_count": 32
        }
      ]
    },
    {
      "cell_type": "markdown",
      "source": [
        "#그라디언트 부스팅"
      ],
      "metadata": {
        "id": "gCNlAduEN1NT"
      },
      "id": "gCNlAduEN1NT"
    },
    {
      "cell_type": "code",
      "source": [
        "from sklearn.ensemble import GradientBoostingClassifier\n",
        "gb = GradientBoostingClassifier(random_state = 42)\n",
        "scores = cross_validate(gb, train_input, train_target, n_jobs = -1, return_train_score = 42)\n",
        "print(np.mean(scores['train_score']))\n",
        "print(np.mean(scores['test_score']))"
      ],
      "metadata": {
        "colab": {
          "base_uri": "https://localhost:8080/"
        },
        "id": "QouMiAsNN99U",
        "outputId": "a78a893c-508c-4b57-d40c-2116d63fa383"
      },
      "id": "QouMiAsNN99U",
      "execution_count": 33,
      "outputs": [
        {
          "output_type": "stream",
          "name": "stdout",
          "text": [
            "0.8881086892152563\n",
            "0.8720430147331015\n"
          ]
        }
      ]
    },
    {
      "cell_type": "code",
      "source": [
        "gb.fit(train_input, train_target)\n",
        "gb.feature_importances_"
      ],
      "metadata": {
        "colab": {
          "base_uri": "https://localhost:8080/"
        },
        "id": "VXl1yMQMOi26",
        "outputId": "e84f92a7-e1e1-4bd7-8131-ed51068c4e30"
      },
      "id": "VXl1yMQMOi26",
      "execution_count": 34,
      "outputs": [
        {
          "output_type": "execute_result",
          "data": {
            "text/plain": [
              "array([0.11949946, 0.74871836, 0.13178218])"
            ]
          },
          "metadata": {},
          "execution_count": 34
        }
      ]
    },
    {
      "cell_type": "code",
      "source": [
        "# 학습률, 트리 개수 증가\n",
        "gb = GradientBoostingClassifier(n_estimators = 500, learning_rate = 0.2, random_state = 42)\n",
        "scores = cross_validate(gb, train_input, train_target, n_jobs = -1, return_train_score = True)\n",
        "print(np.mean(scores['train_score']))\n",
        "print(np.mean(scores['test_score']))"
      ],
      "metadata": {
        "colab": {
          "base_uri": "https://localhost:8080/"
        },
        "id": "h-OD5dXsOnQJ",
        "outputId": "d5ffa127-a57c-4c13-9457-890ad79d2ef6"
      },
      "id": "h-OD5dXsOnQJ",
      "execution_count": 35,
      "outputs": [
        {
          "output_type": "stream",
          "name": "stdout",
          "text": [
            "0.9464595437171814\n",
            "0.8780082549788999\n"
          ]
        }
      ]
    },
    {
      "cell_type": "code",
      "source": [
        "gb.fit(train_input, train_target)\n",
        "gb.feature_importances_"
      ],
      "metadata": {
        "colab": {
          "base_uri": "https://localhost:8080/"
        },
        "id": "uFYwFGflPBDe",
        "outputId": "3eb5e0af-12e1-4d02-fda8-17051fb6e59c"
      },
      "id": "uFYwFGflPBDe",
      "execution_count": 36,
      "outputs": [
        {
          "output_type": "execute_result",
          "data": {
            "text/plain": [
              "array([0.15872278, 0.68010884, 0.16116839])"
            ]
          },
          "metadata": {},
          "execution_count": 36
        }
      ]
    },
    {
      "cell_type": "markdown",
      "source": [
        "#히스토그램 기반 그라디언트 부스팅\n",
        "그라디언트 부스팅의 속도와 성능 개선"
      ],
      "metadata": {
        "id": "gUddAO3-PQS5"
      },
      "id": "gUddAO3-PQS5"
    },
    {
      "cell_type": "code",
      "source": [
        "from sklearn.ensemble import HistGradientBoostingClassifier\n",
        "hgb = HistGradientBoostingClassifier(random_state = 42)\n",
        "scores = cross_validate(hgb, train_input, train_target, return_train_score = True)\n",
        "print(np.mean(scores['train_score']))\n",
        "print(np.mean(scores['test_score']))"
      ],
      "metadata": {
        "colab": {
          "base_uri": "https://localhost:8080/"
        },
        "id": "Npy35hhzPc-R",
        "outputId": "79c5a60d-a138-4448-d7c7-e00660538708"
      },
      "id": "Npy35hhzPc-R",
      "execution_count": 37,
      "outputs": [
        {
          "output_type": "stream",
          "name": "stdout",
          "text": [
            "0.9321723946453317\n",
            "0.8801241948619236\n"
          ]
        }
      ]
    },
    {
      "cell_type": "code",
      "source": [
        "from sklearn.inspection import permutation_importance\n",
        "\n",
        "hgb.fit(train_input, train_target)\n",
        "result = permutation_importance(hgb, train_input, train_target, n_repeats = 10, random_state = 42, n_jobs = -1)\n",
        "result"
      ],
      "metadata": {
        "colab": {
          "base_uri": "https://localhost:8080/"
        },
        "id": "IYcI1eJdQ224",
        "outputId": "e18b1dd3-e07d-4c3f-ae91-32ab193dd94c"
      },
      "id": "IYcI1eJdQ224",
      "execution_count": 38,
      "outputs": [
        {
          "output_type": "execute_result",
          "data": {
            "text/plain": [
              "{'importances': array([[0.08793535, 0.08350972, 0.08908986, 0.08312488, 0.09274581,\n",
              "         0.08755051, 0.08601116, 0.09601693, 0.09082163, 0.09082163],\n",
              "        [0.22782374, 0.23590533, 0.23936887, 0.23436598, 0.23725226,\n",
              "         0.23436598, 0.23359631, 0.23398114, 0.23994612, 0.22724649],\n",
              "        [0.08581874, 0.08601116, 0.08062344, 0.07504329, 0.08427939,\n",
              "         0.07792957, 0.07234943, 0.07465846, 0.08139311, 0.08466423]]),\n",
              " 'importances_mean': array([0.08876275, 0.23438522, 0.08027708]),\n",
              " 'importances_std': array([0.00382333, 0.00401363, 0.00477012])}"
            ]
          },
          "metadata": {},
          "execution_count": 38
        }
      ]
    },
    {
      "cell_type": "code",
      "source": [
        "result = permutation_importance(hgb, test_input, test_target, n_repeats = 10, random_state = 42, n_jobs = -1)\n",
        "result.importances_mean"
      ],
      "metadata": {
        "colab": {
          "base_uri": "https://localhost:8080/"
        },
        "id": "eeVQlmbyWNz9",
        "outputId": "a55963f5-32e2-4cf5-bb23-6dbee8dead6a"
      },
      "id": "eeVQlmbyWNz9",
      "execution_count": 39,
      "outputs": [
        {
          "output_type": "execute_result",
          "data": {
            "text/plain": [
              "array([0.05969231, 0.20238462, 0.049     ])"
            ]
          },
          "metadata": {},
          "execution_count": 39
        }
      ]
    },
    {
      "cell_type": "code",
      "source": [
        "hgb.score(test_input, test_target)"
      ],
      "metadata": {
        "colab": {
          "base_uri": "https://localhost:8080/"
        },
        "id": "7vSo-5coXAdN",
        "outputId": "d4ec68f4-b82b-416d-ad98-2b7ce2489052"
      },
      "id": "7vSo-5coXAdN",
      "execution_count": 40,
      "outputs": [
        {
          "output_type": "execute_result",
          "data": {
            "text/plain": [
              "0.8723076923076923"
            ]
          },
          "metadata": {},
          "execution_count": 40
        }
      ]
    },
    {
      "cell_type": "code",
      "source": [
        "from xgboost import XGBClassifier\n",
        "xgb = XGBClassifier(tree_method = 'hist', random_state = 42)\n",
        "scores = cross_validate(xgb, train_input, train_target, return_train_score = True)\n",
        "print(np.mean(scores['train_score']))\n",
        "print(np.mean(scores['test_score']))"
      ],
      "metadata": {
        "colab": {
          "base_uri": "https://localhost:8080/"
        },
        "id": "4Sx5OLmzXDH2",
        "outputId": "30191b8d-33cb-412d-8a06-4586ca8e070e"
      },
      "id": "4Sx5OLmzXDH2",
      "execution_count": 41,
      "outputs": [
        {
          "output_type": "stream",
          "name": "stdout",
          "text": [
            "0.8824322471423747\n",
            "0.8726214185237284\n"
          ]
        }
      ]
    },
    {
      "cell_type": "code",
      "source": [
        "from lightgbm import LGBMClassifier\n",
        "lgb = LGBMClassifier(random_state = 42)\n",
        "scores = cross_validate(lgb, train_input, train_target, return_train_score = True, n_jobs = -1)\n",
        "print(np.mean(scores['train_score']))\n",
        "print(np.mean(scores['test_score']))"
      ],
      "metadata": {
        "colab": {
          "base_uri": "https://localhost:8080/"
        },
        "id": "Co7kuRP4XSO9",
        "outputId": "4466216d-d9b1-4f4b-8c0a-04cda3b0ab7e"
      },
      "id": "Co7kuRP4XSO9",
      "execution_count": 42,
      "outputs": [
        {
          "output_type": "stream",
          "name": "stdout",
          "text": [
            "0.9338079582727165\n",
            "0.8789710890649293\n"
          ]
        }
      ]
    },
    {
      "cell_type": "code",
      "source": [
        ""
      ],
      "metadata": {
        "id": "vTFpTsSoYbPO"
      },
      "id": "vTFpTsSoYbPO",
      "execution_count": 42,
      "outputs": []
    }
  ],
  "metadata": {
    "kernelspec": {
      "display_name": "Python 3 (ipykernel)",
      "language": "python",
      "name": "python3"
    },
    "language_info": {
      "codemirror_mode": {
        "name": "ipython",
        "version": 3
      },
      "file_extension": ".py",
      "mimetype": "text/x-python",
      "name": "python",
      "nbconvert_exporter": "python",
      "pygments_lexer": "ipython3",
      "version": "3.9.7"
    },
    "colab": {
      "name": "00. Untitled.ipynb",
      "provenance": [],
      "include_colab_link": true
    }
  },
  "nbformat": 4,
  "nbformat_minor": 5
}